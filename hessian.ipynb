{
 "cells": [
  {
   "cell_type": "markdown",
   "metadata": {},
   "source": [
    "$bD = vec(bD)^\\top = vec(b D I)^\\top = \\left[(I\\otimes b) vec(D)\\right]^\\top$\n",
    "\n",
    "$=vec(D)^\\top (I\\otimes b^\\top)$"
   ]
  },
  {
   "cell_type": "markdown",
   "metadata": {},
   "source": [
    "Test the Hessian expression for a scalar deep net\n",
    "\n",
    "$$z_\\ell = f_\\ell(z_{\\ell-1}; x_\\ell) = z_{\\ell-1} \\cdot x_\\ell.$$\n",
    "\n",
    "For such a model,\n",
    "\n",
    "$$z_\\ell = z_0 \\prod_{i=1}^\\ell x_i.$$"
   ]
  },
  {
   "cell_type": "code",
   "execution_count": 56,
   "metadata": {},
   "outputs": [],
   "source": [
    "import numpy as np\n",
    "\n",
    "num_layers = 5\n",
    "xs = np.random.randn(num_layers)\n",
    "z0 = np.random.rand()\n",
    "zL = z0 * np.prod(xs)"
   ]
  },
  {
   "cell_type": "markdown",
   "metadata": {},
   "source": [
    "The following identities hold as a result:\n",
    "\n",
    "$$\\begin{align}\n",
    "b_\\ell &\\equiv \\frac{\\partial z_L}{\\partial z_\\ell} = \\frac{\\partial}{\\partial z_\\ell} z_\\ell \\prod_{i=\\ell+1}^L x_i = \\prod_{i=\\ell+1}^L x_i. \\\\\n",
    "\\nabla_x f_\\ell &= z_{\\ell-1} \\\\\n",
    "\\nabla_z f_\\ell &= x_\\ell \\\\\n",
    "\\nabla_{xx} f_\\ell &= 0 \\\\\n",
    "\\nabla_{xz} f_\\ell &= 1 \\\\\n",
    "\\nabla_{zx} f_\\ell &= 1 \\\\\n",
    "\\nabla_{zz} f_\\ell &= 0\n",
    "\\end{align}$$\n",
    "\n",
    "Compute the gradient and the Hessian the generic way:\n",
    "\n",
    "$$\n",
    "\\frac{\\partial z_L}{\\partial x} =  e_L M^{-1} D.\n",
    "$$\n",
    "and\n",
    "$$H \\equiv \\frac{\\partial^2 z_L}{\\partial x^2} \n",
    "= D_D \\left(D_{xx} + D_{zx} PM^{-1} D_x\\right) + D_x^\\top M^{-T}D_M P^\\top \\left(D_{xz}+D_{zz}P M^{-1}D_x\\right)\n",
    "$$"
   ]
  },
  {
   "cell_type": "code",
   "execution_count": 112,
   "metadata": {},
   "outputs": [],
   "source": [
    "P = np.diag(np.ones(num_layers - 1), k=-1)\n",
    "\n",
    "backwards = np.hstack([np.cumprod(xs[:0:-1])[::-1], 1])\n",
    "D_D = np.diag(backwards)\n",
    "D_M = D_D\n",
    "\n",
    "M = np.eye(num_layers) - np.diag(xs[1:], k=-1)\n",
    "Minv = np.linalg.inv(M)\n",
    "\n",
    "zs = z0 * np.cumprod(xs)\n",
    "D_x = np.diag(np.hstack([z0, zs[:-1]]))\n",
    "\n",
    "D_xx = np.zeros((num_layers, num_layers))\n",
    "D_xz = np.eye(num_layers)\n",
    "D_zx = D_xz\n",
    "D_zz = np.zeros((num_layers, num_layers))\n",
    "\n",
    "grad_est = (Minv @ D_x)[-1]\n",
    "\n",
    "H_est = D_D @ (D_xx + D_zx @ P @ Minv @ D_x) + D_x.T @ Minv.T @ D_M @ P.T @ (\n",
    "    D_xz + D_zz @ P @ Minv @ D_x\n",
    ")"
   ]
  },
  {
   "cell_type": "markdown",
   "metadata": {},
   "source": [
    "For this simple model, we can also compute the gradient and the Hessian in a much simpler way:\n",
    "$$\\begin{align}\n",
    "\\frac{\\partial z_L}{\\partial x_\\ell} = z_0 \\prod_{i\\neq \\ell} x_i = z_L / x_\\ell \\\\\n",
    "\\frac{\\partial^2 z_L}{\\partial x_\\ell x_k} = \\frac{z_L}{x_\\ell x_k} \\delta(\\ell - k)\n",
    "\\end{align}$$\n",
    "\n",
    "Compare the two ways to compute the derivatives:"
   ]
  },
  {
   "cell_type": "code",
   "execution_count": 100,
   "metadata": {},
   "outputs": [],
   "source": [
    "assert np.allclose(backwards, Minv[-1])"
   ]
  },
  {
   "cell_type": "code",
   "execution_count": 101,
   "metadata": {},
   "outputs": [],
   "source": [
    "grad_actual = zL / xs\n",
    "assert np.allclose(grad_actual, grad_est)\n"
   ]
  },
  {
   "cell_type": "code",
   "execution_count": 128,
   "metadata": {},
   "outputs": [],
   "source": [
    "H_actual = zL / xs[:, None] / xs[None, :]\n",
    "H_actual[np.diag_indices(num_layers)] = 0\n",
    "assert np.allclose(H_actual, H_actual.T), \"Simple Hessian is not symmetric.\""
   ]
  },
  {
   "cell_type": "code",
   "execution_count": 126,
   "metadata": {},
   "outputs": [],
   "source": [
    "assert np.allclose(np.tril(H_est), np.tril(H_actual)), (\n",
    "    \"Simple and complicated Hessian mismatch in their lower triangle.\"\n",
    ")"
   ]
  },
  {
   "cell_type": "code",
   "execution_count": 104,
   "metadata": {},
   "outputs": [],
   "source": [
    "assert np.allclose(H_est[np.diag_indices(num_layers)], 0), (\n",
    "    \"Simple and complicated Hessian mismatch in their diagonal.\"\n",
    ")"
   ]
  },
  {
   "cell_type": "code",
   "execution_count": null,
   "metadata": {},
   "outputs": [
    {
     "ename": "AssertionError",
     "evalue": "",
     "output_type": "error",
     "traceback": [
      "\u001b[31m---------------------------------------------------------------------------\u001b[39m",
      "\u001b[31mAssertionError\u001b[39m                            Traceback (most recent call last)",
      "\u001b[36mCell\u001b[39m\u001b[36m \u001b[39m\u001b[32mIn[127]\u001b[39m\u001b[32m, line 1\u001b[39m\n\u001b[32m----> \u001b[39m\u001b[32m1\u001b[39m \u001b[38;5;28;01massert\u001b[39;00m np.allclose(np.triu(H_est), np.triu(H_actual))\n",
      "\u001b[31mAssertionError\u001b[39m: "
     ]
    }
   ],
   "source": [
    "assert np.allclose(np.triu(H_est), np.triu(H_actual)), (\n",
    "    \"Simple and complicated Hessian mismatch in their upper triangle.\"\n",
    ")"
   ]
  },
  {
   "cell_type": "code",
   "execution_count": 108,
   "metadata": {},
   "outputs": [
    {
     "data": {
      "text/plain": [
       "array([[ 0.        , -0.04256002, -0.04256002, -0.04256002, -0.04256002],\n",
       "       [ 0.08981215,  0.        ,  0.04494179,  0.04494179,  0.04494179],\n",
       "       [ 0.03904464, -0.04122968,  0.        ,  0.01953785,  0.01953785],\n",
       "       [ 0.20829405, -0.21995073, -0.09562066,  0.        ,  0.10422986],\n",
       "       [-0.07248304,  0.07653938,  0.03327448,  0.17751159,  0.        ]])"
      ]
     },
     "execution_count": 108,
     "metadata": {},
     "output_type": "execute_result"
    }
   ],
   "source": [
    "H_est"
   ]
  }
 ],
 "metadata": {
  "kernelspec": {
   "display_name": "myenv",
   "language": "python",
   "name": "python3"
  },
  "language_info": {
   "codemirror_mode": {
    "name": "ipython",
    "version": 3
   },
   "file_extension": ".py",
   "mimetype": "text/x-python",
   "name": "python",
   "nbconvert_exporter": "python",
   "pygments_lexer": "ipython3",
   "version": "3.13.2"
  }
 },
 "nbformat": 4,
 "nbformat_minor": 2
}
