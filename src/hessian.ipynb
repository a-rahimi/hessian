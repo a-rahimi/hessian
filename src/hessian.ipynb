{
 "cells": [
  {
   "cell_type": "markdown",
   "metadata": {},
   "source": [
    "# Bilinear scalar deep nets\n",
    "\n",
    "Test the Hessian expression for a scalar deep net\n",
    "\n",
    "$$z_\\ell = f_\\ell(z_{\\ell-1}; x_\\ell) = z_{\\ell-1} \\cdot x_\\ell.$$\n",
    "\n",
    "For such a model,\n",
    "\n",
    "$$z_\\ell = z_0 \\prod_{i=1}^\\ell x_i.$$"
   ]
  },
  {
   "cell_type": "code",
   "execution_count": 1,
   "metadata": {},
   "outputs": [],
   "source": [
    "import numpy as np\n",
    "\n",
    "num_layers = 5\n",
    "xs = np.random.randn(num_layers)\n",
    "z0 = np.random.rand()"
   ]
  },
  {
   "cell_type": "markdown",
   "metadata": {},
   "source": [
    "The following identities hold as a result:\n",
    "\n",
    "$$\\begin{align}\n",
    "b_\\ell &\\equiv \\frac{\\partial z_L}{\\partial z_\\ell} = \\frac{\\partial}{\\partial z_\\ell} z_\\ell \\prod_{i=\\ell+1}^L x_i = \\prod_{i=\\ell+1}^L x_i. \\\\\n",
    "\\nabla_x f_\\ell &= z_{\\ell-1} \\\\\n",
    "\\nabla_z f_\\ell &= x_\\ell \\\\\n",
    "\\nabla_{xx} f_\\ell &= 0 \\\\\n",
    "\\nabla_{xz} f_\\ell &= 1 \\\\\n",
    "\\nabla_{zx} f_\\ell &= 1 \\\\\n",
    "\\nabla_{zz} f_\\ell &= 0\n",
    "\\end{align}$$\n",
    "\n",
    "Compute the gradient and the Hessian the generic way:\n",
    "\n",
    "$$\n",
    "\\frac{\\partial z_L}{\\partial x} =  e_L M^{-1} D.\n",
    "$$\n",
    "and\n",
    "$$\n",
    "H \\equiv \\frac{\\partial^2 z_L}{\\partial x^2} \n",
    "= D_D \\left(D_{xx} + D_{zx} PM^{-1} D_x\\right) + D_x^\\top M^{-T}P^\\top D_M \\left(D_{xz}+D_{zz}P M^{-1}D_x\\right)\n",
    "$$"
   ]
  },
  {
   "cell_type": "code",
   "execution_count": 2,
   "metadata": {},
   "outputs": [],
   "source": [
    "P = np.diag(np.ones(num_layers - 1), k=-1)\n",
    "\n",
    "backwards = np.hstack([np.cumprod(xs[:0:-1])[::-1], 1])\n",
    "D_D = np.diag(backwards)\n",
    "D_M = D_D\n",
    "\n",
    "M = np.eye(num_layers) - np.diag(xs[1:], k=-1)\n",
    "Minv = np.linalg.inv(M)\n",
    "\n",
    "zs = z0 * np.cumprod(xs)\n",
    "D_x = np.diag(np.hstack([z0, zs[:-1]]))\n",
    "\n",
    "D_xx = np.zeros((num_layers, num_layers))\n",
    "D_xz = np.eye(num_layers)\n",
    "D_zx = D_xz\n",
    "D_zz = np.zeros((num_layers, num_layers))\n",
    "\n",
    "grad_est = (Minv @ D_x)[-1]\n",
    "\n",
    "H_est = D_D @ (D_xx + D_zx @ P @ Minv @ D_x) + D_x.T @ Minv.T @ P.T @ D_M @ (\n",
    "    D_xz + D_zz @ P @ Minv @ D_x\n",
    ")"
   ]
  },
  {
   "cell_type": "markdown",
   "metadata": {},
   "source": [
    "For this simple model, we can also compute the gradient and the Hessian in a much simpler way:\n",
    "$$\\begin{align}\n",
    "\\frac{\\partial z_L}{\\partial x_\\ell} = z_0 \\prod_{i\\neq \\ell} x_i = z_L / x_\\ell \\\\\n",
    "\\frac{\\partial^2 z_L}{\\partial x_\\ell x_k} = \\frac{z_L}{x_\\ell x_k} \\delta(\\ell - k)\n",
    "\\end{align}$$\n",
    "\n",
    "Compare the two ways to compute the derivatives:"
   ]
  },
  {
   "cell_type": "code",
   "execution_count": 3,
   "metadata": {},
   "outputs": [],
   "source": [
    "assert np.allclose(backwards, Minv[-1])"
   ]
  },
  {
   "cell_type": "code",
   "execution_count": 4,
   "metadata": {},
   "outputs": [],
   "source": [
    "zL = z0 * np.prod(xs)\n",
    "grad_actual = zL / xs\n",
    "assert np.allclose(grad_actual, grad_est)\n"
   ]
  },
  {
   "cell_type": "code",
   "execution_count": 5,
   "metadata": {},
   "outputs": [],
   "source": [
    "H_actual = zL / xs[:, None] / xs[None, :]\n",
    "H_actual[np.diag_indices(num_layers)] = 0\n",
    "assert np.allclose(H_actual, H_actual.T), \"Simple Hessian is not symmetric.\"\n",
    "assert np.allclose(H_est, H_actual), \"Simple and complicated Hessian mismatch.\""
   ]
  },
  {
   "cell_type": "markdown",
   "metadata": {},
   "source": [
    "# Quadratic scalar deep nets\n",
    "\n",
    "Test the Hessian expression for a deep net of the form\n",
    "\n",
    "$$z_\\ell = f_\\ell(z_{\\ell-1}; x_\\ell) = z_{\\ell-1} \\cdot x_\\ell^2.$$\n",
    "\n",
    "For such a model,\n",
    "\n",
    "$$z_\\ell = z_0 \\prod_{i=1}^\\ell x_i^2.$$ "
   ]
  },
  {
   "cell_type": "markdown",
   "metadata": {},
   "source": [
    "The following identities hold as a result:\n",
    "\n",
    "$$\\begin{align}\n",
    "b_\\ell &\\equiv \\frac{\\partial z_L}{\\partial z_\\ell} = \\frac{\\partial}{\\partial z_\\ell} z_\\ell \\prod_{i=\\ell+1}^L x_i^2 = \\prod_{i=\\ell+1}^L x_i^2. \\\\\n",
    "\\nabla_x f_\\ell &= 2 z_{\\ell-1} \\cdot x_\\ell \\\\\n",
    "\\nabla_z f_\\ell &= x_\\ell^2 \\\\\n",
    "\\nabla_{xx} f_\\ell &= 2 z_{\\ell-1} \\\\\n",
    "\\nabla_{xz} f_\\ell &= 2 x_\\ell \\\\\n",
    "\\nabla_{zx} f_\\ell &= 2 x_\\ell \\\\\n",
    "\\nabla_{zz} f_\\ell &= 0\n",
    "\\end{align}$$"
   ]
  },
  {
   "cell_type": "code",
   "execution_count": 6,
   "metadata": {},
   "outputs": [],
   "source": [
    "P = np.diag(np.ones(num_layers - 1), k=-1)\n",
    "\n",
    "backwards = np.hstack([np.cumprod(xs[:0:-1] ** 2)[::-1], 1])\n",
    "D_D = np.diag(backwards)\n",
    "D_M = D_D\n",
    "\n",
    "M = np.eye(num_layers) - np.diag(xs[1:] ** 2, k=-1)\n",
    "Minv = np.linalg.inv(M)\n",
    "\n",
    "zs = z0 * np.cumprod(xs**2)\n",
    "D_x = np.diag(2 * np.hstack([z0, zs[:-1]]) * xs)\n",
    "\n",
    "D_xx = np.diag(2 * np.hstack([z0, zs[:-1]]))\n",
    "D_xz = np.diag(2 * xs)\n",
    "D_zx = D_xz\n",
    "D_zz = np.zeros((num_layers, num_layers))\n",
    "\n",
    "grad_est = (Minv @ D_x)[-1]\n",
    "\n",
    "H_est = D_D @ (D_xx + D_zx @ P @ Minv @ D_x) + D_x.T @ Minv.T @ P.T @ D_M @ (\n",
    "    D_xz + D_zz @ P @ Minv @ D_x\n",
    ")"
   ]
  },
  {
   "cell_type": "markdown",
   "metadata": {},
   "source": [
    "For this simple model, we can also compute the gradient and the Hessian in a much simpler way:\n",
    "$$\\begin{align}\n",
    "\\frac{\\partial z_L}{\\partial x_\\ell} = z_0 \\left(\\prod_{i\\neq \\ell} x_i^2\\right)2x_\\ell = 2 z_L / x_\\ell \\\\\n",
    "\\frac{\\partial^2 z_L}{\\partial x_\\ell x_k} = \\begin{cases} \n",
    "   \\frac{4z_L}{x_\\ell x_k}, \\quad \\ell \\neq k \\\\\n",
    "   \\frac{4z_L}{x_\\ell^2}-\\frac{2z_L}{x_\\ell^2} = \\frac{2z_L}{x_\\ell^2}, \\quad \\ell = k\n",
    " \\end{cases}\n",
    "\\end{align}$$\n",
    "\n",
    "Compare the two ways to compute the derivatives:"
   ]
  },
  {
   "cell_type": "code",
   "execution_count": 7,
   "metadata": {},
   "outputs": [],
   "source": [
    "zL = z0 * np.prod(xs**2)\n",
    "grad_actual = 2 * zL / xs\n",
    "assert np.allclose(grad_actual, grad_est)"
   ]
  },
  {
   "cell_type": "code",
   "execution_count": 8,
   "metadata": {},
   "outputs": [],
   "source": [
    "H_actual = 4 * zL / xs[:, None] / xs[None, :]\n",
    "H_actual[np.diag_indices(num_layers)] /= 2\n",
    "assert np.allclose(H_actual, H_actual.T), \"Simple Hessian is not symmetric.\""
   ]
  },
  {
   "cell_type": "code",
   "execution_count": 9,
   "metadata": {},
   "outputs": [],
   "source": [
    "assert np.allclose(H_est, H_actual), \"Simple and complicated Hessian mismatch.\""
   ]
  }
 ],
 "metadata": {
  "kernelspec": {
   "display_name": "myenv",
   "language": "python",
   "name": "python3"
  },
  "language_info": {
   "codemirror_mode": {
    "name": "ipython",
    "version": 3
   },
   "file_extension": ".py",
   "mimetype": "text/x-python",
   "name": "python",
   "nbconvert_exporter": "python",
   "pygments_lexer": "ipython3",
   "version": "3.13.2"
  }
 },
 "nbformat": 4,
 "nbformat_minor": 2
}
